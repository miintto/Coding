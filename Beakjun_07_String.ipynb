{
 "cells": [
  {
   "cell_type": "markdown",
   "metadata": {},
   "source": [
    "# 7. 문자열\n",
    "-----"
   ]
  },
  {
   "cell_type": "markdown",
   "metadata": {},
   "source": [
    "### No. 11654 아스키 코드\n",
    "\n",
    "### 문제\n",
    "알파벳 소문자, 대문자, 숫자 0-9중 하나가 주어졌을 때, 주어진 글자의 아스키 코드값을 출력하는 프로그램을 작성하시오.\n",
    "\n",
    "### 입력\n",
    "알파벳 소문자, 대문자, 숫자 0-9 중 하나가 첫째 줄에 주어진다.\n",
    "\n",
    "### 출력\n",
    "입력으로 주어진 글자의 아스키 코드 값을 출력한다.\n",
    "\n",
    "### 풀이\n",
    "> 아스키 코드란?<br>\n",
    "> -> 문자마다 각각 대응되는 숫자!<br>\n",
    "> ex)<br>\n",
    "> A : 65, B : 66, C : 67, ..., Z : 90<br>\n",
    "> a : 97, b : 98, ..., z : 122 (대문자 소문자 각각 대응되는 숫자가 다름)\n",
    "> <br><br><br>\n",
    "> ord 함수를 사용\n",
    ">\n",
    "> ord() : 알파벳 -> 아스키 코드<br>\n",
    "> chr() : 아스키 코드 -> 알파벳\n",
    ">\n",
    "> ex)<br>\n",
    "> ord('A') 를 입력하면 65 가 출력된다.<br>\n",
    "> 반대로 chr(65) 를 입력하면 'A' 출력."
   ]
  },
  {
   "cell_type": "code",
   "execution_count": null,
   "metadata": {
    "scrolled": true
   },
   "outputs": [],
   "source": [
    "print(ord(input()))"
   ]
  },
  {
   "cell_type": "markdown",
   "metadata": {},
   "source": [
    "-----"
   ]
  },
  {
   "cell_type": "markdown",
   "metadata": {},
   "source": [
    "###  No.10809 알파벳 찾기\n",
    "\n",
    "### 문제\n",
    "알파벳 소문자로만 이루어진 단어 S가 주어진다. 각각의 알파벳에 대해서, 단어에 포함되어 있는 경우에는 처음 등장하는 위치를, 포함되어 있지 않은 경우에는 -1을 출력하는 프로그램을 작성하시오.\n",
    "\n",
    "### 입력\n",
    "첫째 줄에 단어 S가 주어진다. 단어의 길이는 100을 넘지 않으며, 알파벳 소문자로만 이루어져 있다.\n",
    "\n",
    "### 출력\n",
    "각각의 알파벳에 대해서, a가 처음 등장하는 위치, b가 처음 등장하는 위치, ... z가 처음 등장하는 위치를 공백으로 구분해서 출력한다.<br>\n",
    "만약, 어떤 알파벳이 단어에 포함되어 있지 않다면 -1을 출력한다. 단어의 첫 번째 글자는 0번째 위치이고, 두 번째 글자는 1번째 위치이다.\n",
    "\n",
    "### 풀이\n",
    "> find() 함수는 주어진 문자속에서 해당 문자의 index 출력, 존재하지 않을 시 -1 출력.<br>\n",
    "> 단, 모든 문자의 위치가 아니라 처음으로 나타난 문자의 index만 출력하게 된다.\n",
    ">\n",
    "> ex)<br>\n",
    "> s = 'Hello World' 로 설정하고 s.find('W') 를 입력하면 문자열 중 W의 index인 6을 출력하게 된다. (띄어쓰기도 포함한다.)    "
   ]
  },
  {
   "cell_type": "code",
   "execution_count": null,
   "metadata": {},
   "outputs": [],
   "source": [
    "S = input()\n",
    "for i in 'abcdefghijklmnopqrstuvwxyz':\n",
    "    print(N.find(i), end = ' ')"
   ]
  },
  {
   "cell_type": "markdown",
   "metadata": {},
   "source": [
    "-----"
   ]
  },
  {
   "cell_type": "markdown",
   "metadata": {},
   "source": [
    "### No. 2675 문자열 반복\n",
    "\n",
    "### 문제\n",
    "문자열 S를 입력받은 후에, 각 문자를 R번 반복해 새 문자열 T를 만든 후 출력하는 프로그램을 작성하시오.\n",
    "\n",
    "다시 설명하자면, 첫 번째 문자를 R번 반복하고, 두 번째 문자를 R번 반복하는 식으로 T를 만들면 된다. S에는 QR Code \"alphanumeric\" 문자만 들어있다.\n",
    "\n",
    "QR Code \"alphanumeric\" 문자는 0123456789ABCDEFGHIJKLMNOPQRSTUVWXYZ$%*+-./: 이다.\n",
    "\n",
    "### 입력\n",
    "첫째 줄에 테스트 케이스의 개수 T(1 <= T <= 1,000)가 주어진다. 각 테스트 케이스는  반복 횟수 R(1 <= R <= 8), 문자열 S가 공백으로 구분되어 주어진다. S의 길이는 적어도 1이며, 20글자를 넘지 않는다. \n",
    "\n",
    "### 출력\n",
    "각 테스트 케이스에 대해 T를 출력한다.\n",
    "\n",
    "### 풀이\n",
    "> print 함수를 사용할 때 '문자열'*정수 를 입력하게 되면 문자열을 정수횟수만큼 출력하게 된다.\n",
    "> \n",
    "> join 함수를 사용할 수도 있다.<br>\n",
    "> s = ['a', 'b', 'c'] 로 설정하고 ''.join(s) 를 입력하면 배열 s가 문자열 형태인 'abc' 로 출력되게 된다.<br>\n",
    "> ''사이에 변화를 주어 구분자를 줄 수도 있는데 '-'.join(s) 를 입력하면 'a-b-c' 가 출력되게 된다."
   ]
  },
  {
   "cell_type": "code",
   "execution_count": null,
   "metadata": {},
   "outputs": [],
   "source": [
    "for i in range(int(input())):\n",
    "    R, S = input().split()\n",
    "    for j in list(S):\n",
    "        print(j*int(R), end = '')\n",
    "    print('')"
   ]
  },
  {
   "cell_type": "code",
   "execution_count": null,
   "metadata": {},
   "outputs": [],
   "source": [
    "for i in range(int(input())):\n",
    "    R, S = input().split()\n",
    "    print(''.join(j*int(R) for j in S))"
   ]
  },
  {
   "cell_type": "markdown",
   "metadata": {},
   "source": [
    "-----"
   ]
  },
  {
   "cell_type": "markdown",
   "metadata": {},
   "source": [
    "### No. 1157 단어 공부\n",
    "\n",
    "### 문제\n",
    "알파벳 대소문자로 된 단어가 주어지면, 이 단어에서 가장 많이 사용된 알파벳이 무엇인지 알아내는 프로그램을 작성하시오. 단, 대문자와 소문자를 구분하지 않는다.\n",
    "\n",
    "### 입력\n",
    "첫째 줄에 알파벳 대소문자로 이루어진 단어가 주어진다. 주어지는 단어의 길이는 1,000,000을 넘지 않는다.\n",
    "\n",
    "### 출력\n",
    "첫째 줄에 이 단어에서 가장 많이 사용된 알파벳을 대문자로 출력한다. 단, 가장 많이 사용된 알파벳이 여러 개 존재하는 경우에는 ?를 출력한다."
   ]
  },
  {
   "cell_type": "code",
   "execution_count": null,
   "metadata": {},
   "outputs": [],
   "source": []
  },
  {
   "cell_type": "markdown",
   "metadata": {},
   "source": [
    "### No. 1316 그룹 단어 체커\n",
    "\n",
    "### 문제\n",
    "그룹 단어란 단어에 존재하는 모든 문자에 대해서, 각 문자가 연속해서 나타나는 경우만을 말한다. 예를 들면, ccazzzzbb는 c, a, z, b가 모두 연속해서 나타나고, kin도 k, i, n이 연속해서 나타나기 때문에 그룹 단어이지만, aabbbccb는 b가 떨어져서 나타나기 때문에 그룹 단어가 아니다.\n",
    "\n",
    "단어 N개를 입력으로 받아 그룹 단어의 개수를 출력하는 프로그램을 작성하시오.\n",
    "\n",
    "### 입력\n",
    "첫째 줄에 단어의 개수 N이 들어온다. N은 100보다 작거나 같은 자연수이다. 둘째줄부터 N개의 줄에 단어가 들어온다. 단어는 알파벳 소문자로만 되어있고 중복되지 않으며, 길이는 최대 100이다.\n",
    "\n",
    "### 출력\n",
    "첫째 줄에 그룹 단어의 개수를 출력한다.\n",
    "\n",
    "### 풀이\n",
    "> 문자열을 한개씩 차례로 find함수를 사용하였을 때, 그룹단어는 index가 오름차순이 된다는 아이디어에서 착안.<br>\n",
    "> 처음엔 그룹단어를 판별하는 함수를 정의하여 개수를 카운트 하였다.<br>\n",
    "> 추후, 코드가 다소 길고 지버분해보여서 for문 안으로 집어넣었다."
   ]
  },
  {
   "cell_type": "code",
   "execution_count": null,
   "metadata": {},
   "outputs": [],
   "source": [
    "def is_gp(N):\n",
    "    A = 0\n",
    "    for i in N:\n",
    "        if A>N.find(i):\n",
    "            return False\n",
    "        else:\n",
    "            A = N.find(i)\n",
    "    return True\n",
    "\n",
    "i = 0\n",
    "for _ in range(int(input())):\n",
    "    if is_gp(input()):\n",
    "        i+=1\n",
    "print(i)"
   ]
  },
  {
   "cell_type": "code",
   "execution_count": null,
   "metadata": {},
   "outputs": [],
   "source": [
    "N = int(input())\n",
    "for _ in range(N):\n",
    "    s = input()\n",
    "    for i in range(1, len(s)):\n",
    "        if s.find(s[i-1]) > s.find(s[i]):\n",
    "            N-=1\n",
    "            break\n",
    "print(N)"
   ]
  },
  {
   "cell_type": "code",
   "execution_count": null,
   "metadata": {},
   "outputs": [],
   "source": [
    "res = 0\n",
    "for i in range(int(input())):\n",
    "    s = input()\n",
    "    if list(s) == sorted(s, key=s.find):\n",
    "        res += 1\n",
    "print(res)"
   ]
  },
  {
   "cell_type": "markdown",
   "metadata": {},
   "source": [
    "-----"
   ]
  },
  {
   "cell_type": "markdown",
   "metadata": {},
   "source": [
    "### No. 1152 단어의 개수\n",
    "\n",
    "### 문제\n",
    "영어 대소문자와 띄어쓰기만으로 이루어진 문장이 주어진다. 이 문장에는 몇 개의 단어가 있을까? 이를 구하는 프로그램을 작성하시오.\n",
    "\n",
    "### 입력\n",
    "첫 줄에 영어 대소문자와 띄어쓰기로 이루어진 문장이 주어진다. 이 문장의 길이는 1,000,000을 넘지 않는다. 단어는 띄어쓰기 한 개로 구분되며, 공백이 연속해서 나오는 경우는 없다.\n",
    "\n",
    "### 출력\n",
    "첫째 줄에 단어의 개수를 출력한다.\n",
    "\n",
    "### 풀이\n",
    "> len 함수는 문자열의 경우에는 문자의 갯수, 리스트의 경우에는 원소의 개수를 출력한다.\n",
    ">\n",
    "> ex)<br>\n",
    "> s1 = 'abcd'<br>\n",
    "> s2 = ['a', 'b', 'c']<br>\n",
    "> 인 경우에 len(s1) 는 4, len(s2) 는 3을 출력하게 된다."
   ]
  },
  {
   "cell_type": "code",
   "execution_count": null,
   "metadata": {},
   "outputs": [],
   "source": [
    "print(len(input().split()))"
   ]
  },
  {
   "cell_type": "markdown",
   "metadata": {},
   "source": [
    "-----"
   ]
  },
  {
   "cell_type": "markdown",
   "metadata": {},
   "source": [
    "### No. 2908 상수\n",
    "\n",
    "### 문제\n",
    "상근이의 동생 상수는 수학을 정말 못한다. 상수는 숫자를 읽는데 문제가 있다. 이렇게 수학을 못하는 상수를 위해서 상근이는 수의 크기를 비교하는 문제를 내주었다. 상근이는 세 자리 숫자 두 개를 칠판에 써주었다. 그 다음에 크기가 큰 수를 말해보라고 했다.\n",
    "\n",
    "상수는 수를 다른 사람과 다르게 거꾸로 읽는다. 예를 들어, 734과 893을 칠판에 적었다면, 상수는 이 수를 437과 398로 읽는다. 따라서, 상수는 두 수중 큰 수인 437을 큰 수라고 말할 것이다.\n",
    "\n",
    "두 수가 주어졌을 때, 상수의 대답을 출력하는 프로그램을 작성하시오.\n",
    "\n",
    "### 입력\n",
    "첫째 줄에 상근이가 칠판에 적은 두 수 A와 B가 주어진다. 두 수는 같지 않은 세 자리 수이며, 0이 포함되어 있지 않다.\n",
    "\n",
    "### 출력\n",
    "첫째 줄에 상수의 대답을 출력한다.\n",
    "\n",
    "### 풀이\n",
    "> 문자열을 거꾸로 돌리는 법은 여러가지가 있다.<br><br>\n",
    "> 우선 reversed 함수가 있는데 이 경우엔 리스트 형태일 때만 작동한다.<br>\n",
    "> s = ['a', 'b', 'c'] 라고 지정한 후 list(reversed(s)) 를 입력하면 거꾸로 역전된 ['c', 'b', 'a']가 출력된다.<br>\n",
    "> 이 문제처럼 리스트가 아닌 문자열인 경우에는 리스트를 문자열로 바꿔주는 join함수를 응용하여 ''.join(reversed(s)) 를 사용해준다.<br><br>\n",
    "> slice 방식을 이용하는 방법도 있다.<br>\n",
    "> s = 'abcde' 로 지정한한 뒤 s[::-1]를 입력해주면 반대로 역전된, 'edcba'가 출력된다."
   ]
  },
  {
   "cell_type": "code",
   "execution_count": null,
   "metadata": {},
   "outputs": [],
   "source": [
    "print(max(map(int,''.join(reversed(input())).split())))"
   ]
  },
  {
   "cell_type": "code",
   "execution_count": null,
   "metadata": {},
   "outputs": [],
   "source": [
    "print(max(input()[::-1].split()))"
   ]
  },
  {
   "cell_type": "markdown",
   "metadata": {},
   "source": [
    "-----"
   ]
  },
  {
   "cell_type": "markdown",
   "metadata": {},
   "source": [
    "### No. 5622 다이얼\n",
    "\n",
    "### 문제\n",
    "상근이의 할머니는 아래 그림과 같이 오래된 다이얼 전화기를 사용한다.\n",
    "\n",
    "전화를 걸고 싶은 번호가 있다면, 숫자를 하나를 누른 다음에 금속 핀이 있는 곳 까지 시계방향으로 돌려야 한다. 다른 숫자를 누르려면 다이얼이 원래 위치로 돌아가기를 기다려야 한다.\n",
    "\n",
    "숫자 1을 걸려면 총 2초가 필요하다. 1보다 큰 수를 거는데 걸리는 시간은 이보다 더 걸리며, 한 칸 옆에 있는 숫자를 걸기 위해선 1초씩 더 걸린다.\n",
    "\n",
    "상근이의 할머니는 전화 번호를 각 숫자에 해당하는 문자로 외운다. 즉, 어떤 단어를 걸 때, 각 알파벳에 해당하는 숫자를 걸면 된다. 예를 들어, UNUCIC는 868242와 같다.\n",
    "\n",
    "할머니가 외운 단어가 주어졌을 때, 이 전화를 걸기 위해서 필요한 시간을 구하는 프로그램을 작성하시오.\n",
    "\n",
    "### 입력\n",
    "첫째 줄에 알파벳 대문자로 이루어진 단어가 주어진다. 단어는 2글자~15글자로 이루어져 있다.\n",
    "\n",
    "### 출력\n",
    "첫째 줄에 다이얼을 걸기 위해서 필요한 시간을 출력한다.\n",
    "\n",
    "### 풀이\n",
    "> "
   ]
  },
  {
   "cell_type": "code",
   "execution_count": null,
   "metadata": {},
   "outputs": [],
   "source": [
    "N = [int('22233344455566677778889999'[ord(i)-65]) for i in input()]\n",
    "print(sum(N)+len(N))"
   ]
  },
  {
   "cell_type": "markdown",
   "metadata": {},
   "source": [
    "-----"
   ]
  },
  {
   "cell_type": "markdown",
   "metadata": {},
   "source": [
    "### No. 2941 크로아티아 알파벳\n",
    "\n",
    "### 문제\n",
    "예전에는 운영체제에서 크로아티아 알파벳을 입력할 수가 없었다. 따라서, 다음과 같이 크로아티아 알파벳을 다음과 같이 변경해서 입력했다.\n",
    "\n",
    "|크로아티아 알파벳 | 변경|\n",
    "|--|--|\n",
    "|č\t|c= |\n",
    "|ć\t|c- |\n",
    "|dž\t|dz= |\n",
    "|ñ\t|d- |\n",
    "|lj\t|lj |\n",
    "|nj\t|nj |\n",
    "|š\t|s= |\n",
    "|ž\t|z= |\n",
    "예를 들어, ljes=njak은 크로아티아 알파벳 6개(lj, e, š, nj, a, k)로 이루어져 있다. 단어가 주어졌을 때, 몇 개의 크로아티아 알파벳으로 이루어져 있는지 출력한다.\n",
    "\n",
    "dž는 무조건 하나의 알파벳으로 쓰이고, d와 ž가 분리된 것으로 보지 않는다. lj와 nj도 마찬가지이다. 위 목록에 없는 알파벳은 한 글자씩 센다.\n",
    "\n",
    "### 입력\n",
    "첫째 줄에 최대 100글자의 단어가 주어진다. 알파벳 소문자와 '-', '='로만 이루어져 있다.\n",
    "\n",
    "문제 설명에 나와있는 크로아티아 알파벳만 주어진다.\n",
    "\n",
    "### 출력\n",
    "입력으로 주어진 단어가 몇 개의 크로아티아 알파벳으로 이루어져 있는지 출력한다.\n",
    "\n",
    "### 풀이\n",
    "> 해당 크로아티아 단어들만 다른 단어들로 대체해준 후 전체 길이를 출력한다.<br>\n",
    "> ('z='를 대체할 때 'dz='까지 건드릴 수 있으니 'dz='를 먼저 제거한다는 점에 주의)"
   ]
  },
  {
   "cell_type": "code",
   "execution_count": null,
   "metadata": {
    "scrolled": true
   },
   "outputs": [],
   "source": [
    "N = input() \n",
    "for i in ['c=','c-','dz=','d-','lj','nj','s=','z=']:\n",
    "     N = N.replace(i,'o')\n",
    "print(len(N))"
   ]
  },
  {
   "cell_type": "markdown",
   "metadata": {},
   "source": [
    "-----"
   ]
  }
 ],
 "metadata": {
  "kernelspec": {
   "display_name": "Python 3",
   "language": "python",
   "name": "python3"
  },
  "language_info": {
   "codemirror_mode": {
    "name": "ipython",
    "version": 3
   },
   "file_extension": ".py",
   "mimetype": "text/x-python",
   "name": "python",
   "nbconvert_exporter": "python",
   "pygments_lexer": "ipython3",
   "version": "3.6.5"
  }
 },
 "nbformat": 4,
 "nbformat_minor": 2
}
